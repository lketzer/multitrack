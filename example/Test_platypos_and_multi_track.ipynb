{
 "cells": [
  {
   "cell_type": "markdown",
   "metadata": {},
   "source": [
    "# Import"
   ]
  },
  {
   "cell_type": "code",
   "execution_count": 1,
   "metadata": {},
   "outputs": [],
   "source": [
    "import numpy as np\n",
    "import pandas as pd\n",
    "import matplotlib.pyplot as plt\n",
    "import sys\n",
    "import os\n",
    "from astropy import constants as const\n",
    "import multiprocessing\n",
    "\n",
    "# this is preliminary and should eventually no longer be necessary\n",
    "sys.path.append('/work2/lketzer/work/gitlab/platypos_group/platypos')\n",
    "import platypos\n",
    "from platypos.Planet_class_LoFo14 import planet_LoFo14\n",
    "from platypos.Planet_class_Ot20 import planet_Ot20\n",
    "path_platypos = os.path.abspath(platypos.__file__).rstrip(\"__init__.py\")[:-9]\n",
    "\n",
    "sys.path.append('/work2/lketzer/work/gitlab/platypos_group/multi_track')\n",
    "import multi_track\n",
    "from multi_track.evolve_planet import evolve_one_planet_along_one_track\n",
    "from multi_track.evolve_planet import evolve_one_planet\n",
    "from multi_track.create_planet_chunks import create_file_structure_for_saving_results_and_return_planet_folder_pairs\n",
    "from multi_track.create_planet_chunks import make_folder_planet_track_list\n",
    "from multi_track.create_planet_chunks import create_arg_list_one_planet, create_arg_list_one_planet_along_one_track"
   ]
  },
  {
   "cell_type": "markdown",
   "metadata": {},
   "source": [
    "# Create Planets"
   ]
  },
  {
   "cell_type": "code",
   "execution_count": 2,
   "metadata": {},
   "outputs": [],
   "source": [
    "star = {\n",
    " 'star_id': \"dummy\",\n",
    " 'mass': 0.9853484910214,\n",
    " 'radius': None,\n",
    " 'age': 1.0,\n",
    " 'L_bol': 3.4539847848609653e+33/const.L_sun.cgs.value,\n",
    " 'Lx_age': 2.56047429431498e+30}\n",
    "planet = {\n",
    " 'distance': 0.013243682995988661,\n",
    " 'metallicity': 'solarZ',\n",
    " 'fenv': 16.392784596958197,\n",
    " 'core_mass': 0.9532237058218218}\n",
    "pl1 = planet_LoFo14(star, planet)\n",
    "\n",
    "star = {\n",
    " 'star_id': 'star_age1.0_mass1.03',\n",
    " 'mass': 1.027672583692369,\n",
    " 'radius': None,\n",
    " 'age': 1.0,\n",
    " 'L_bol': 4.0868258335169855e+33/const.L_sun.cgs.value,\n",
    " 'Lx_age': 3.029605844799301e+30}\n",
    "planet = {\n",
    " 'distance': 0.26568969027997524,\n",
    " 'metallicity': 'solarZ',\n",
    " 'fenv': 2.2181748204555483,\n",
    " 'core_mass': 2.274310743090016}\n",
    "pl2 = planet_LoFo14(star, planet)\n",
    "\n",
    "star = {\n",
    " 'star_id': 'star_age1.0_mass1.05',\n",
    " 'mass': 1.0528330000727544,\n",
    " 'radius': None,\n",
    " 'age': 1.0,\n",
    " 'L_bol': 4.6964654232268237e+33/const.L_sun.cgs.value,\n",
    " 'Lx_age': 3.481537916153693e+30}\n",
    "planet = {\n",
    " 'distance': 0.08122846066224176,\n",
    " 'metallicity': 'solarZ',\n",
    " 'fenv': 7.4452478880800514,\n",
    " 'core_mass': 3.5298972937511093}\n",
    "pl3 = planet_LoFo14(star, planet)\n",
    "\n",
    "for pl in [pl1, pl2, pl3]:\n",
    "    pl.Lx_sat_info = \"Tu15\""
   ]
  },
  {
   "cell_type": "code",
   "execution_count": 3,
   "metadata": {},
   "outputs": [
    {
     "data": {
      "text/plain": [
       "{'star_id': 'star_age1.0_mass1.03',\n",
       " 'mass_star': 1.027672583692369,\n",
       " 'radius_star': None,\n",
       " 'age': 1.0,\n",
       " 'Lbol': 4.0868258335169855e+33,\n",
       " 'Lx_age': 3.029605844799301e+30,\n",
       " 'Lx_sat_info': 'Tu15',\n",
       " 'distance': 0.26568969027997524,\n",
       " 'metallicity': 'solarZ',\n",
       " 'flux': 14.993585465287188,\n",
       " 'has_evolved': False,\n",
       " 'planet_id': 'dummy',\n",
       " 'planet_info': 'Case 1 - artificial planet (with M_core & f_env)',\n",
       " 'fenv': 2.2181748204555483,\n",
       " 'core_mass': 2.274310743090016,\n",
       " 'core_radius': 1.228039823926851,\n",
       " 'mass': 2.325903345446851,\n",
       " 'radius': 4.298862337222561}"
      ]
     },
     "execution_count": 3,
     "metadata": {},
     "output_type": "execute_result"
    }
   ],
   "source": [
    "pl2.__dict__"
   ]
  },
  {
   "cell_type": "markdown",
   "metadata": {},
   "source": [
    "# Create Tracks"
   ]
  },
  {
   "cell_type": "code",
   "execution_count": 4,
   "metadata": {},
   "outputs": [],
   "source": [
    "age_star = pl1.age\n",
    "Lxsat_info = \"LxTu15\"\n",
    "t_final, initial_step_size, epsilon = 3000., 0.1, 0.1\n",
    "K, beta = \"no\", \"no\"\n",
    "\n",
    "# for testing\n",
    "#planets_chunks = planet_chunks[:]\n",
    "\n",
    "# track parameters which are different between the diff. tracks: t_sat, dt_drop, Lx_drop_factor\n",
    "track1 = {\"t_sat\": age_star, \"dt_drop\": 20., \"Lx_drop_factor\": 18.}\n",
    "track1_1 = {\"t_sat\": 10, \"dt_drop\": 20., \"Lx_drop_factor\": 12.}\n",
    "track2 = {\"t_sat\": 20, \"dt_drop\": 20., \"Lx_drop_factor\": 10.}\n",
    "track3 = {\"t_sat\": 40., \"dt_drop\": 20., \"Lx_drop_factor\": 7.}\n",
    "track4 = {\"t_sat\": 70., \"dt_drop\": 20., \"Lx_drop_factor\": 5.}\n",
    "track5 = {\"t_sat\": 100., \"dt_drop\": 0., \"Lx_drop_factor\": 0.}\n",
    "track6 = {\"t_sat\": 150., \"dt_drop\": 0., \"Lx_drop_factor\": 0.}\n",
    "track7 = {\"t_sat\": 240., \"dt_drop\": 0., \"Lx_drop_factor\": 0.}\n",
    "different_track_params_list = [track1, track1_1, track2, track3, track4, track5, track6, track7]"
   ]
  },
  {
   "cell_type": "markdown",
   "metadata": {},
   "source": [
    "# Evolve planets along all tracks"
   ]
  },
  {
   "cell_type": "code",
   "execution_count": 5,
   "metadata": {},
   "outputs": [
    {
     "name": "stdout",
     "output_type": "stream",
     "text": [
      "Folder test_run/ exists.\n",
      "\n",
      "Path for saving results:\n",
      " /work2/lketzer/work/gitlab/platypos_group/multi_track/example/test_run/\n"
     ]
    }
   ],
   "source": [
    "list_planets = [pl1, pl2, pl3]\n",
    "name = \"test_run/\"\n",
    "\n",
    "if not os.path.isdir(os.getcwd() + \"/\" + name):\n",
    "    os.makedirs(os.getcwd() + \"/\" + name)\n",
    "else:\n",
    "    os.system(\"rm -r \" + os.getcwd() + \"/\" + name)\n",
    "    os.makedirs(os.getcwd() + \"/\" + name)\n",
    "\n",
    "path_save, folder_planet_list = create_file_structure_for_saving_results_and_return_planet_folder_pairs(curr_path=os.getcwd()+\"/\", folder_name=name, list_planets=list_planets)\n",
    "print(\"\\nPath for saving results:\\n\", path_save)\n",
    "\n",
    "# create list of [folder, planet, track]-triplets\n",
    "folder_planet_track_list =  make_folder_planet_track_list(folder_planet_list, different_track_params_list)\n",
    "\n",
    "# for evolve_one_planet_along_one_track\n",
    "arg_tuples = create_arg_list_one_planet_along_one_track(folder_planet_track_list, t_final, initial_step_size, epsilon, K, beta, path_save)"
   ]
  },
  {
   "cell_type": "code",
   "execution_count": 6,
   "metadata": {},
   "outputs": [
    {
     "name": "stdout",
     "output_type": "stream",
     "text": [
      "There are 8 CPUs on this machine\n"
     ]
    },
    {
     "name": "stderr",
     "output_type": "stream",
     "text": [
      "Process ForkPoolWorker-1:\n",
      "Process ForkPoolWorker-4:\n",
      "Process ForkPoolWorker-5:\n",
      "Process ForkPoolWorker-7:\n",
      "Process ForkPoolWorker-6:\n",
      "Process ForkPoolWorker-2:\n",
      "Traceback (most recent call last):\n",
      "Process ForkPoolWorker-3:\n",
      "Traceback (most recent call last):\n",
      "Traceback (most recent call last):\n",
      "  File \"/work2/lketzer/anaconda3/envs/lconda/lib/python3.7/multiprocessing/process.py\", line 297, in _bootstrap\n",
      "    self.run()\n",
      "Traceback (most recent call last):\n",
      "  File \"/work2/lketzer/anaconda3/envs/lconda/lib/python3.7/multiprocessing/process.py\", line 297, in _bootstrap\n",
      "    self.run()\n",
      "Traceback (most recent call last):\n",
      "Traceback (most recent call last):\n",
      "  File \"/work2/lketzer/anaconda3/envs/lconda/lib/python3.7/multiprocessing/process.py\", line 99, in run\n",
      "    self._target(*self._args, **self._kwargs)\n",
      "  File \"/work2/lketzer/anaconda3/envs/lconda/lib/python3.7/multiprocessing/process.py\", line 297, in _bootstrap\n",
      "    self.run()\n",
      "  File \"/work2/lketzer/anaconda3/envs/lconda/lib/python3.7/multiprocessing/process.py\", line 99, in run\n",
      "    self._target(*self._args, **self._kwargs)\n",
      "  File \"/work2/lketzer/anaconda3/envs/lconda/lib/python3.7/multiprocessing/pool.py\", line 121, in worker\n",
      "    result = (True, func(*args, **kwds))\n",
      "  File \"/work2/lketzer/anaconda3/envs/lconda/lib/python3.7/multiprocessing/pool.py\", line 47, in starmapstar\n",
      "    return list(itertools.starmap(args[0], args[1]))\n",
      "Traceback (most recent call last):\n",
      "  File \"/work2/lketzer/work/gitlab/platypos_group/multi_track/multi_track/evolve_planet.py\", line 506, in evolve_one_planet_along_one_track\n",
      "    planet_folder_id=folder)\n",
      "  File \"/work2/lketzer/anaconda3/envs/lconda/lib/python3.7/multiprocessing/process.py\", line 99, in run\n",
      "    self._target(*self._args, **self._kwargs)\n",
      "  File \"/work2/lketzer/anaconda3/envs/lconda/lib/python3.7/multiprocessing/process.py\", line 297, in _bootstrap\n",
      "    self.run()\n",
      "  File \"/work2/lketzer/anaconda3/envs/lconda/lib/python3.7/multiprocessing/pool.py\", line 121, in worker\n",
      "    result = (True, func(*args, **kwds))\n",
      "  File \"/work2/lketzer/work/gitlab/platypos_group/platypos/platypos/Planet_class_LoFo14.py\", line 350, in evolve_forward_and_create_full_output\n",
      "    planet_folder_id)\n",
      "  File \"/work2/lketzer/anaconda3/envs/lconda/lib/python3.7/multiprocessing/pool.py\", line 47, in starmapstar\n",
      "    return list(itertools.starmap(args[0], args[1]))\n",
      "  File \"/work2/lketzer/anaconda3/envs/lconda/lib/python3.7/multiprocessing/process.py\", line 297, in _bootstrap\n",
      "    self.run()\n",
      "  File \"/work2/lketzer/work/gitlab/platypos_group/platypos/platypos/Planet_class_LoFo14.py\", line 312, in evolve_forward\n",
      "    track_dict=evo_track_dict\n",
      "  File \"/work2/lketzer/anaconda3/envs/lconda/lib/python3.7/multiprocessing/pool.py\", line 121, in worker\n",
      "    result = (True, func(*args, **kwds))\n",
      "  File \"/work2/lketzer/work/gitlab/platypos_group/platypos/platypos/Mass_evolution_function.py\", line 201, in mass_planet_RK4_forward_LO14\n",
      "    f_env_k3, track_dict)\n",
      "  File \"/work2/lketzer/work/gitlab/platypos_group/multi_track/multi_track/evolve_planet.py\", line 506, in evolve_one_planet_along_one_track\n",
      "    planet_folder_id=folder)\n",
      "  File \"/work2/lketzer/anaconda3/envs/lconda/lib/python3.7/multiprocessing/process.py\", line 297, in _bootstrap\n",
      "    self.run()\n",
      "  File \"/work2/lketzer/anaconda3/envs/lconda/lib/python3.7/multiprocessing/process.py\", line 297, in _bootstrap\n",
      "    self.run()\n",
      "  File \"/work2/lketzer/anaconda3/envs/lconda/lib/python3.7/multiprocessing/process.py\", line 99, in run\n",
      "    self._target(*self._args, **self._kwargs)\n",
      "  File \"/work2/lketzer/work/gitlab/platypos_group/platypos/platypos/Mass_loss_rate_function.py\", line 47, in mass_loss_rate_forward_LO14\n",
      "    planet_object.distance),\n",
      "  File \"/work2/lketzer/anaconda3/envs/lconda/lib/python3.7/multiprocessing/process.py\", line 99, in run\n",
      "    self._target(*self._args, **self._kwargs)\n",
      "  File \"/work2/lketzer/work/gitlab/platypos_group/platypos/platypos/Planet_class_LoFo14.py\", line 350, in evolve_forward_and_create_full_output\n",
      "    planet_folder_id)\n",
      "  File \"/work2/lketzer/anaconda3/envs/lconda/lib/python3.7/multiprocessing/process.py\", line 99, in run\n",
      "    self._target(*self._args, **self._kwargs)\n",
      "  File \"/work2/lketzer/anaconda3/envs/lconda/lib/python3.7/multiprocessing/pool.py\", line 121, in worker\n",
      "    result = (True, func(*args, **kwds))\n",
      "  File \"/work2/lketzer/anaconda3/envs/lconda/lib/python3.7/multiprocessing/pool.py\", line 121, in worker\n",
      "    result = (True, func(*args, **kwds))\n",
      "  File \"/work2/lketzer/anaconda3/envs/lconda/lib/python3.7/multiprocessing/pool.py\", line 47, in starmapstar\n",
      "    return list(itertools.starmap(args[0], args[1]))\n",
      "  File \"/work2/lketzer/anaconda3/envs/lconda/lib/python3.7/multiprocessing/pool.py\", line 47, in starmapstar\n",
      "    return list(itertools.starmap(args[0], args[1]))\n",
      "  File \"/work2/lketzer/work/gitlab/platypos_group/multi_track/multi_track/evolve_planet.py\", line 506, in evolve_one_planet_along_one_track\n",
      "    planet_folder_id=folder)\n",
      "  File \"/work2/lketzer/anaconda3/envs/lconda/lib/python3.7/multiprocessing/pool.py\", line 121, in worker\n",
      "    result = (True, func(*args, **kwds))\n",
      "  File \"/work2/lketzer/anaconda3/envs/lconda/lib/python3.7/multiprocessing/pool.py\", line 47, in starmapstar\n",
      "    return list(itertools.starmap(args[0], args[1]))\n",
      "  File \"/work2/lketzer/anaconda3/envs/lconda/lib/python3.7/multiprocessing/pool.py\", line 47, in starmapstar\n",
      "    return list(itertools.starmap(args[0], args[1]))\n",
      "  File \"/work2/lketzer/work/gitlab/platypos_group/platypos/platypos/Planet_class_LoFo14.py\", line 350, in evolve_forward_and_create_full_output\n",
      "    planet_folder_id)\n"
     ]
    },
    {
     "ename": "KeyboardInterrupt",
     "evalue": "",
     "output_type": "error",
     "traceback": [
      "\u001b[0;31m---------------------------------------------------------------------------\u001b[0m",
      "\u001b[0;31mKeyboardInterrupt\u001b[0m                         Traceback (most recent call last)",
      "\u001b[0;32m<timed exec>\u001b[0m in \u001b[0;36m<module>\u001b[0;34m\u001b[0m\n",
      "\u001b[0;32m/work2/lketzer/anaconda3/envs/lconda/lib/python3.7/multiprocessing/pool.py\u001b[0m in \u001b[0;36mstarmap\u001b[0;34m(self, func, iterable, chunksize)\u001b[0m\n\u001b[1;32m    274\u001b[0m         \u001b[0;31m`\u001b[0m\u001b[0mfunc\u001b[0m\u001b[0;31m`\u001b[0m \u001b[0;32mand\u001b[0m \u001b[0;34m(\u001b[0m\u001b[0ma\u001b[0m\u001b[0;34m,\u001b[0m \u001b[0mb\u001b[0m\u001b[0;34m)\u001b[0m \u001b[0mbecomes\u001b[0m \u001b[0mfunc\u001b[0m\u001b[0;34m(\u001b[0m\u001b[0ma\u001b[0m\u001b[0;34m,\u001b[0m \u001b[0mb\u001b[0m\u001b[0;34m)\u001b[0m\u001b[0;34m.\u001b[0m\u001b[0;34m\u001b[0m\u001b[0;34m\u001b[0m\u001b[0m\n\u001b[1;32m    275\u001b[0m         '''\n\u001b[0;32m--> 276\u001b[0;31m         \u001b[0;32mreturn\u001b[0m \u001b[0mself\u001b[0m\u001b[0;34m.\u001b[0m\u001b[0m_map_async\u001b[0m\u001b[0;34m(\u001b[0m\u001b[0mfunc\u001b[0m\u001b[0;34m,\u001b[0m \u001b[0miterable\u001b[0m\u001b[0;34m,\u001b[0m \u001b[0mstarmapstar\u001b[0m\u001b[0;34m,\u001b[0m \u001b[0mchunksize\u001b[0m\u001b[0;34m)\u001b[0m\u001b[0;34m.\u001b[0m\u001b[0mget\u001b[0m\u001b[0;34m(\u001b[0m\u001b[0;34m)\u001b[0m\u001b[0;34m\u001b[0m\u001b[0;34m\u001b[0m\u001b[0m\n\u001b[0m\u001b[1;32m    277\u001b[0m \u001b[0;34m\u001b[0m\u001b[0m\n\u001b[1;32m    278\u001b[0m     def starmap_async(self, func, iterable, chunksize=None, callback=None,\n",
      "\u001b[0;32m/work2/lketzer/anaconda3/envs/lconda/lib/python3.7/multiprocessing/pool.py\u001b[0m in \u001b[0;36mget\u001b[0;34m(self, timeout)\u001b[0m\n\u001b[1;32m    649\u001b[0m \u001b[0;34m\u001b[0m\u001b[0m\n\u001b[1;32m    650\u001b[0m     \u001b[0;32mdef\u001b[0m \u001b[0mget\u001b[0m\u001b[0;34m(\u001b[0m\u001b[0mself\u001b[0m\u001b[0;34m,\u001b[0m \u001b[0mtimeout\u001b[0m\u001b[0;34m=\u001b[0m\u001b[0;32mNone\u001b[0m\u001b[0;34m)\u001b[0m\u001b[0;34m:\u001b[0m\u001b[0;34m\u001b[0m\u001b[0;34m\u001b[0m\u001b[0m\n\u001b[0;32m--> 651\u001b[0;31m         \u001b[0mself\u001b[0m\u001b[0;34m.\u001b[0m\u001b[0mwait\u001b[0m\u001b[0;34m(\u001b[0m\u001b[0mtimeout\u001b[0m\u001b[0;34m)\u001b[0m\u001b[0;34m\u001b[0m\u001b[0;34m\u001b[0m\u001b[0m\n\u001b[0m\u001b[1;32m    652\u001b[0m         \u001b[0;32mif\u001b[0m \u001b[0;32mnot\u001b[0m \u001b[0mself\u001b[0m\u001b[0;34m.\u001b[0m\u001b[0mready\u001b[0m\u001b[0;34m(\u001b[0m\u001b[0;34m)\u001b[0m\u001b[0;34m:\u001b[0m\u001b[0;34m\u001b[0m\u001b[0;34m\u001b[0m\u001b[0m\n\u001b[1;32m    653\u001b[0m             \u001b[0;32mraise\u001b[0m \u001b[0mTimeoutError\u001b[0m\u001b[0;34m\u001b[0m\u001b[0;34m\u001b[0m\u001b[0m\n",
      "\u001b[0;32m/work2/lketzer/anaconda3/envs/lconda/lib/python3.7/multiprocessing/pool.py\u001b[0m in \u001b[0;36mwait\u001b[0;34m(self, timeout)\u001b[0m\n\u001b[1;32m    646\u001b[0m \u001b[0;34m\u001b[0m\u001b[0m\n\u001b[1;32m    647\u001b[0m     \u001b[0;32mdef\u001b[0m \u001b[0mwait\u001b[0m\u001b[0;34m(\u001b[0m\u001b[0mself\u001b[0m\u001b[0;34m,\u001b[0m \u001b[0mtimeout\u001b[0m\u001b[0;34m=\u001b[0m\u001b[0;32mNone\u001b[0m\u001b[0;34m)\u001b[0m\u001b[0;34m:\u001b[0m\u001b[0;34m\u001b[0m\u001b[0;34m\u001b[0m\u001b[0m\n\u001b[0;32m--> 648\u001b[0;31m         \u001b[0mself\u001b[0m\u001b[0;34m.\u001b[0m\u001b[0m_event\u001b[0m\u001b[0;34m.\u001b[0m\u001b[0mwait\u001b[0m\u001b[0;34m(\u001b[0m\u001b[0mtimeout\u001b[0m\u001b[0;34m)\u001b[0m\u001b[0;34m\u001b[0m\u001b[0;34m\u001b[0m\u001b[0m\n\u001b[0m\u001b[1;32m    649\u001b[0m \u001b[0;34m\u001b[0m\u001b[0m\n\u001b[1;32m    650\u001b[0m     \u001b[0;32mdef\u001b[0m \u001b[0mget\u001b[0m\u001b[0;34m(\u001b[0m\u001b[0mself\u001b[0m\u001b[0;34m,\u001b[0m \u001b[0mtimeout\u001b[0m\u001b[0;34m=\u001b[0m\u001b[0;32mNone\u001b[0m\u001b[0;34m)\u001b[0m\u001b[0;34m:\u001b[0m\u001b[0;34m\u001b[0m\u001b[0;34m\u001b[0m\u001b[0m\n",
      "\u001b[0;32m/work2/lketzer/anaconda3/envs/lconda/lib/python3.7/threading.py\u001b[0m in \u001b[0;36mwait\u001b[0;34m(self, timeout)\u001b[0m\n\u001b[1;32m    550\u001b[0m             \u001b[0msignaled\u001b[0m \u001b[0;34m=\u001b[0m \u001b[0mself\u001b[0m\u001b[0;34m.\u001b[0m\u001b[0m_flag\u001b[0m\u001b[0;34m\u001b[0m\u001b[0;34m\u001b[0m\u001b[0m\n\u001b[1;32m    551\u001b[0m             \u001b[0;32mif\u001b[0m \u001b[0;32mnot\u001b[0m \u001b[0msignaled\u001b[0m\u001b[0;34m:\u001b[0m\u001b[0;34m\u001b[0m\u001b[0;34m\u001b[0m\u001b[0m\n\u001b[0;32m--> 552\u001b[0;31m                 \u001b[0msignaled\u001b[0m \u001b[0;34m=\u001b[0m \u001b[0mself\u001b[0m\u001b[0;34m.\u001b[0m\u001b[0m_cond\u001b[0m\u001b[0;34m.\u001b[0m\u001b[0mwait\u001b[0m\u001b[0;34m(\u001b[0m\u001b[0mtimeout\u001b[0m\u001b[0;34m)\u001b[0m\u001b[0;34m\u001b[0m\u001b[0;34m\u001b[0m\u001b[0m\n\u001b[0m\u001b[1;32m    553\u001b[0m             \u001b[0;32mreturn\u001b[0m \u001b[0msignaled\u001b[0m\u001b[0;34m\u001b[0m\u001b[0;34m\u001b[0m\u001b[0m\n\u001b[1;32m    554\u001b[0m \u001b[0;34m\u001b[0m\u001b[0m\n",
      "\u001b[0;32m/work2/lketzer/anaconda3/envs/lconda/lib/python3.7/threading.py\u001b[0m in \u001b[0;36mwait\u001b[0;34m(self, timeout)\u001b[0m\n\u001b[1;32m    294\u001b[0m         \u001b[0;32mtry\u001b[0m\u001b[0;34m:\u001b[0m    \u001b[0;31m# restore state no matter what (e.g., KeyboardInterrupt)\u001b[0m\u001b[0;34m\u001b[0m\u001b[0;34m\u001b[0m\u001b[0m\n\u001b[1;32m    295\u001b[0m             \u001b[0;32mif\u001b[0m \u001b[0mtimeout\u001b[0m \u001b[0;32mis\u001b[0m \u001b[0;32mNone\u001b[0m\u001b[0;34m:\u001b[0m\u001b[0;34m\u001b[0m\u001b[0;34m\u001b[0m\u001b[0m\n\u001b[0;32m--> 296\u001b[0;31m                 \u001b[0mwaiter\u001b[0m\u001b[0;34m.\u001b[0m\u001b[0macquire\u001b[0m\u001b[0;34m(\u001b[0m\u001b[0;34m)\u001b[0m\u001b[0;34m\u001b[0m\u001b[0;34m\u001b[0m\u001b[0m\n\u001b[0m\u001b[1;32m    297\u001b[0m                 \u001b[0mgotit\u001b[0m \u001b[0;34m=\u001b[0m \u001b[0;32mTrue\u001b[0m\u001b[0;34m\u001b[0m\u001b[0;34m\u001b[0m\u001b[0m\n\u001b[1;32m    298\u001b[0m             \u001b[0;32melse\u001b[0m\u001b[0;34m:\u001b[0m\u001b[0;34m\u001b[0m\u001b[0;34m\u001b[0m\u001b[0m\n",
      "\u001b[0;31mKeyboardInterrupt\u001b[0m: "
     ]
    }
   ],
   "source": [
    "%%time\n",
    "\n",
    "if __name__ == '__main__': # Allows for the safe importing of the main module\n",
    "\n",
    "    cpu_count = multiprocessing.cpu_count()\n",
    "    print(\"There are %d CPUs on this machine\" % cpu_count)\n",
    "\n",
    "    with multiprocessing.Pool(processes=cpu_count-1) as pool:\n",
    "        pool.starmap(evolve_one_planet_along_one_track, arg_tuples)"
   ]
  },
  {
   "cell_type": "code",
   "execution_count": 22,
   "metadata": {},
   "outputs": [],
   "source": [
    "# %%time\n",
    "\n",
    "# # evolve without multiprocessing\n",
    "# for i, pl in enumerate([pl1, pl2, pl3]):\n",
    "#     folder = \"planet\" + str(i+1)\n",
    "#     if not os.path.isdir(os.getcwd() + \"/\" + folder):\n",
    "#         os.makedirs(os.getcwd() + \"/\" + folder)\n",
    "#         path_save = os.getcwd() + \"/\" + folder + \"/\"\n",
    "#     else:\n",
    "#         os.system(\"rm -r \" + os.getcwd() + \"/\" + folder)\n",
    "#         os.makedirs(os.getcwd() + \"/\" + folder)\n",
    "#         path_save = os.getcwd() + \"/\" + folder + \"/\"\n",
    "    \n",
    "#     for track in different_track_params_list:\n",
    "#         pl.Lx_sat_info = \"Tu15\"\n",
    "#         folder_planet_track_list = [folder, pl, track]\n",
    "#         evolve_one_planet_along_one_track(folder_planet_track_list, t_final, initial_step_size, epsilon, \"no\", \"no\", path_save)"
   ]
  }
 ],
 "metadata": {
  "kernelspec": {
   "display_name": "Python 3",
   "language": "python",
   "name": "python3"
  },
  "language_info": {
   "codemirror_mode": {
    "name": "ipython",
    "version": 3
   },
   "file_extension": ".py",
   "mimetype": "text/x-python",
   "name": "python",
   "nbconvert_exporter": "python",
   "pygments_lexer": "ipython3",
   "version": "3.7.3"
  }
 },
 "nbformat": 4,
 "nbformat_minor": 4
}
