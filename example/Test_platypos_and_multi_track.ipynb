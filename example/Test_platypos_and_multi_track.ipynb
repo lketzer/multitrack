{
 "cells": [
  {
   "cell_type": "markdown",
   "metadata": {},
   "source": [
    "# Import"
   ]
  },
  {
   "cell_type": "code",
   "execution_count": 1,
   "metadata": {},
   "outputs": [],
   "source": [
    "import numpy as np\n",
    "import pandas as pd\n",
    "import matplotlib.pyplot as plt\n",
    "import sys\n",
    "import os\n",
    "from astropy import constants as const\n",
    "import multiprocessing\n",
    "\n",
    "#sys.path.append(\"/work2/lketzer/work/gitlab/platypos_group/platypos/\")\n",
    "import platypos\n",
    "from platypos import Planet_LoFo14\n",
    "from platypos import Planet_Ot20\n",
    "\n",
    "#sys.path.append(\"/work2/lketzer/work/PythonProjects/multi_track/multi_track/\")\n",
    "from multi_track import evolve_one_planet_along_one_track\n",
    "from multi_track import evolve_one_planet\n",
    "from multi_track.create_planet_chunks import create_file_structure_for_saving_results_and_return_planet_folder_pairs\n",
    "from multi_track.create_planet_chunks import make_folder_planet_track_list\n",
    "from multi_track.create_planet_chunks import create_arg_list_one_planet, create_arg_list_one_planet_along_one_track"
   ]
  },
  {
   "cell_type": "markdown",
   "metadata": {},
   "source": [
    "# Create Planets"
   ]
  },
  {
   "cell_type": "code",
   "execution_count": 5,
   "metadata": {},
   "outputs": [],
   "source": [
    "star = {\n",
    " 'star_id': \"dummy\",\n",
    " 'mass': 0.9853484910214,\n",
    " 'radius': None,\n",
    " 'age': 1.0,\n",
    " 'L_bol': 3.4539847848609653e+33/const.L_sun.cgs.value,\n",
    " 'Lx_age': 2.56047429431498e+30}\n",
    "planet = {\n",
    " 'distance': 0.013243682995988661,\n",
    " 'metallicity': 'solarZ',\n",
    " 'fenv': 16.392784596958197,\n",
    " 'core_mass': 0.9532237058218218}\n",
    "pl1 = Planet_LoFo14(star, planet)\n",
    "\n",
    "star = {\n",
    " 'star_id': 'star_age1.0_mass1.03',\n",
    " 'mass': 1.027672583692369,\n",
    " 'radius': None,\n",
    " 'age': 1.0,\n",
    " 'L_bol': 4.0868258335169855e+33/const.L_sun.cgs.value,\n",
    " 'Lx_age': 3.029605844799301e+30}\n",
    "planet = {\n",
    " 'distance': 0.26568969027997524,\n",
    " 'metallicity': 'solarZ',\n",
    " 'fenv': 2.2181748204555483,\n",
    " 'core_mass': 2.274310743090016}\n",
    "pl2 = Planet_LoFo14(star, planet)\n",
    "\n",
    "star = {\n",
    " 'star_id': 'star_age1.0_mass1.05',\n",
    " 'mass': 1.0528330000727544,\n",
    " 'radius': None,\n",
    " 'age': 1.0,\n",
    " 'L_bol': 4.6964654232268237e+33/const.L_sun.cgs.value,\n",
    " 'Lx_age': 3.481537916153693e+30}\n",
    "planet = {\n",
    " 'distance': 0.08122846066224176,\n",
    " 'metallicity': 'solarZ',\n",
    " 'fenv': 7.4452478880800514,\n",
    " 'core_mass': 3.5298972937511093}\n",
    "pl3 = Planet_LoFo14(star, planet)\n",
    "\n",
    "for pl in [pl1, pl2, pl3]:\n",
    "    pl.Lx_sat_info = \"Tu15\""
   ]
  },
  {
   "cell_type": "code",
   "execution_count": 4,
   "metadata": {},
   "outputs": [
    {
     "data": {
      "text/plain": [
       "{'star_id': 'star_age1.0_mass1.03',\n",
       " 'mass_star': 1.027672583692369,\n",
       " 'radius_star': None,\n",
       " 'age': 1.0,\n",
       " 'Lbol': 4.0868258335169855e+33,\n",
       " 'Lx_age': 3.029605844799301e+30,\n",
       " 'Lx_sat_info': 'Tu15',\n",
       " 'distance': 0.26568969027997524,\n",
       " 'metallicity': 'solarZ',\n",
       " 'flux': 14.993585465287188,\n",
       " 'has_evolved': False,\n",
       " 'planet_id': 'dummy',\n",
       " 'planet_info': 'Case 1 - artificial planet (with M_core & f_env)',\n",
       " 'fenv': 2.2181748204555483,\n",
       " 'core_mass': 2.274310743090016,\n",
       " 'core_radius': 1.228039823926851,\n",
       " 'mass': 2.325903345446851,\n",
       " 'radius': 4.298862337222561}"
      ]
     },
     "execution_count": 4,
     "metadata": {},
     "output_type": "execute_result"
    }
   ],
   "source": [
    "pl2.__dict__"
   ]
  },
  {
   "cell_type": "markdown",
   "metadata": {},
   "source": [
    "# Create Tracks"
   ]
  },
  {
   "cell_type": "code",
   "execution_count": 6,
   "metadata": {},
   "outputs": [],
   "source": [
    "age_star = pl1.age\n",
    "Lxsat_info = \"LxTu15\"\n",
    "t_final, initial_step_size, epsilon = 3000., 0.1, 0.1\n",
    "K, beta = \"no\", \"no\"\n",
    "\n",
    "# track parameters which are different between the diff. tracks: t_sat, dt_drop, Lx_drop_factor\n",
    "track1 = {\"t_sat\": age_star, \"dt_drop\": 20., \"Lx_drop_factor\": 18.}\n",
    "track1_1 = {\"t_sat\": 10, \"dt_drop\": 20., \"Lx_drop_factor\": 12.}\n",
    "track2 = {\"t_sat\": 20, \"dt_drop\": 20., \"Lx_drop_factor\": 10.}\n",
    "track3 = {\"t_sat\": 40., \"dt_drop\": 20., \"Lx_drop_factor\": 7.}\n",
    "track4 = {\"t_sat\": 70., \"dt_drop\": 20., \"Lx_drop_factor\": 5.}\n",
    "track5 = {\"t_sat\": 100., \"dt_drop\": 0., \"Lx_drop_factor\": 0.}\n",
    "track6 = {\"t_sat\": 150., \"dt_drop\": 0., \"Lx_drop_factor\": 0.}\n",
    "track7 = {\"t_sat\": 240., \"dt_drop\": 0., \"Lx_drop_factor\": 0.}\n",
    "different_track_params_list = [track1, track1_1, track2, track3, track4, track5, track6, track7]"
   ]
  },
  {
   "cell_type": "markdown",
   "metadata": {},
   "source": [
    "# Evolve planets along all tracks"
   ]
  },
  {
   "cell_type": "code",
   "execution_count": 7,
   "metadata": {},
   "outputs": [
    {
     "name": "stdout",
     "output_type": "stream",
     "text": [
      "Folder test_run/ exists.\n",
      "\n",
      "Path for saving results:\n",
      " /work2/lketzer/work/PythonProjects/multi_track/multi_track/example/test_run/\n"
     ]
    }
   ],
   "source": [
    "list_planets = [pl1, pl2, pl3]\n",
    "name = \"test_run/\"\n",
    "\n",
    "if not os.path.isdir(os.getcwd() + \"/\" + name):\n",
    "    os.makedirs(os.getcwd() + \"/\" + name)\n",
    "else:\n",
    "    os.system(\"rm -r \" + os.getcwd() + \"/\" + name)\n",
    "    os.makedirs(os.getcwd() + \"/\" + name)\n",
    "\n",
    "path_save, folder_planet_list = create_file_structure_for_saving_results_and_return_planet_folder_pairs(curr_path=os.getcwd()+\"/\", folder_name=name, list_planets=list_planets)\n",
    "print(\"\\nPath for saving results:\\n\", path_save)\n",
    "\n",
    "# create list of [folder, planet, track]-triplets\n",
    "folder_planet_track_list =  make_folder_planet_track_list(folder_planet_list, different_track_params_list)\n",
    "\n",
    "# for evolve_one_planet_along_one_track\n",
    "arg_tuples = create_arg_list_one_planet_along_one_track(folder_planet_track_list, t_final, initial_step_size, epsilon, K, beta, path_save)"
   ]
  },
  {
   "cell_type": "code",
   "execution_count": 8,
   "metadata": {},
   "outputs": [
    {
     "name": "stdout",
     "output_type": "stream",
     "text": [
      "There are 8 CPUs on this machine\n",
      "CPU times: user 8.78 ms, sys: 26 ms, total: 34.8 ms\n",
      "Wall time: 20.2 s\n"
     ]
    }
   ],
   "source": [
    "%%time\n",
    "\n",
    "if __name__ == '__main__': # Allows for the safe importing of the main module\n",
    "\n",
    "    cpu_count = multiprocessing.cpu_count()\n",
    "    print(\"There are %d CPUs on this machine\" % cpu_count)\n",
    "\n",
    "    with multiprocessing.Pool(processes=cpu_count-1) as pool:\n",
    "        pool.starmap(evolve_one_planet_along_one_track, arg_tuples)"
   ]
  },
  {
   "cell_type": "code",
   "execution_count": null,
   "metadata": {},
   "outputs": [],
   "source": [
    "# %%time\n",
    "\n",
    "# # evolve without multiprocessing\n",
    "# for i, pl in enumerate([pl1, pl2, pl3]):\n",
    "#     folder = \"planet\" + str(i+1)\n",
    "#     if not os.path.isdir(os.getcwd() + \"/\" + folder):\n",
    "#         os.makedirs(os.getcwd() + \"/\" + folder)\n",
    "#         path_save = os.getcwd() + \"/\" + folder + \"/\"\n",
    "#     else:\n",
    "#         os.system(\"rm -r \" + os.getcwd() + \"/\" + folder)\n",
    "#         os.makedirs(os.getcwd() + \"/\" + folder)\n",
    "#         path_save = os.getcwd() + \"/\" + folder + \"/\"\n",
    "    \n",
    "#     for track in different_track_params_list:\n",
    "#         pl.Lx_sat_info = \"Tu15\"\n",
    "#         folder_planet_track_list = [folder, pl, track]\n",
    "#         evolve_one_planet_along_one_track(folder_planet_track_list, t_final, initial_step_size, epsilon, \"no\", \"no\", path_save)"
   ]
  }
 ],
 "metadata": {
  "kernelspec": {
   "display_name": "Python 3",
   "language": "python",
   "name": "python3"
  },
  "language_info": {
   "codemirror_mode": {
    "name": "ipython",
    "version": 3
   },
   "file_extension": ".py",
   "mimetype": "text/x-python",
   "name": "python",
   "nbconvert_exporter": "python",
   "pygments_lexer": "ipython3",
   "version": "3.7.3"
  },
  "toc": {
   "base_numbering": 1,
   "nav_menu": {},
   "number_sections": true,
   "sideBar": true,
   "skip_h1_title": false,
   "title_cell": "Table of Contents",
   "title_sidebar": "Contents",
   "toc_cell": false,
   "toc_position": {},
   "toc_section_display": true,
   "toc_window_display": false
  },
  "varInspector": {
   "cols": {
    "lenName": 16,
    "lenType": 16,
    "lenVar": 40
   },
   "kernels_config": {
    "python": {
     "delete_cmd_postfix": "",
     "delete_cmd_prefix": "del ",
     "library": "var_list.py",
     "varRefreshCmd": "print(var_dic_list())"
    },
    "r": {
     "delete_cmd_postfix": ") ",
     "delete_cmd_prefix": "rm(",
     "library": "var_list.r",
     "varRefreshCmd": "cat(var_dic_list()) "
    }
   },
   "types_to_exclude": [
    "module",
    "function",
    "builtin_function_or_method",
    "instance",
    "_Feature"
   ],
   "window_display": false
  }
 },
 "nbformat": 4,
 "nbformat_minor": 4
}
