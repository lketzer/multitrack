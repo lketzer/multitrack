{
 "cells": [
  {
   "cell_type": "markdown",
   "metadata": {},
   "source": [
    "# Import"
   ]
  },
  {
   "cell_type": "code",
   "execution_count": 1,
   "metadata": {},
   "outputs": [
    {
     "data": {
      "text/html": [
       "<style type='text/css'>\n",
       ".datatable table.frame { margin-bottom: 0; }\n",
       ".datatable table.frame thead { border-bottom: none; }\n",
       ".datatable table.frame tr.coltypes td {  color: #FFFFFF;  line-height: 6px;  padding: 0 0.5em;}\n",
       ".datatable .bool    { background: #DDDD99; }\n",
       ".datatable .object  { background: #565656; }\n",
       ".datatable .int     { background: #5D9E5D; }\n",
       ".datatable .float   { background: #4040CC; }\n",
       ".datatable .str     { background: #CC4040; }\n",
       ".datatable .time    { background: #40CC40; }\n",
       ".datatable .row_index {  background: var(--jp-border-color3);  border-right: 1px solid var(--jp-border-color0);  color: var(--jp-ui-font-color3);  font-size: 9px;}\n",
       ".datatable .frame tbody td { text-align: left; }\n",
       ".datatable .frame tr.coltypes .row_index {  background: var(--jp-border-color0);}\n",
       ".datatable th:nth-child(2) { padding-left: 12px; }\n",
       ".datatable .hellipsis {  color: var(--jp-cell-editor-border-color);}\n",
       ".datatable .vellipsis {  background: var(--jp-layout-color0);  color: var(--jp-cell-editor-border-color);}\n",
       ".datatable .na {  color: var(--jp-cell-editor-border-color);  font-size: 80%;}\n",
       ".datatable .sp {  opacity: 0.25;}\n",
       ".datatable .footer { font-size: 9px; }\n",
       ".datatable .frame_dimensions {  background: var(--jp-border-color3);  border-top: 1px solid var(--jp-border-color0);  color: var(--jp-ui-font-color3);  display: inline-block;  opacity: 0.6;  padding: 1px 10px 1px 5px;}\n",
       "</style>\n"
      ],
      "text/plain": [
       "<IPython.core.display.HTML object>"
      ]
     },
     "metadata": {},
     "output_type": "display_data"
    }
   ],
   "source": [
    "import numpy as np\n",
    "import pandas as pd\n",
    "import matplotlib.pyplot as plt\n",
    "import sys\n",
    "import os\n",
    "from astropy import constants as const\n",
    "import multiprocessing\n",
    "import time\n",
    "\n",
    "\n",
    "if os.path.exists(\"/media/laura/SSD2lin/Dropbox/PhD_2/Python_Projects/PLATYPOS/platypos/\"):\n",
    "    sys.path.append(\"/media/laura/SSD2lin/Dropbox/PhD_2/Python_Projects/PLATYPOS/platypos/\")\n",
    "elif os.path.exists(\"/work2/lketzer/work/gitlab/platypos_group/platypos/\"):\n",
    "    sys.path.append(\"/work2/lketzer/work/gitlab/platypos_group/platypos/\")\n",
    "elif os.path.exists(\"/home/laura/Dropbox/PhD_2/Python_Projects/PLATYPOS/platypos/\"):\n",
    "    sys.path.append(\"/home/laura/Dropbox/PhD_2/Python_Projects/PLATYPOS/platypos/\")\n",
    "import platypos\n",
    "from platypos import Planet_LoFo14\n",
    "from platypos import Planet_ChRo16\n",
    "from platypos import Planet_Ot20\n",
    "import platypos.planet_models_LoFo14 as plmoLoFo14\n",
    "import platypos.planet_models_ChRo16 as plmoChRo16\n",
    "from platypos.mass_evolution_function import mass_evo_RK4_forward\n",
    "from platypos.mass_loss_rate_function import mass_loss_rate, mass_loss_rate_Elim, mass_loss_rate_RRlim, mass_loss_rate_noplanetobj\n",
    "from platypos.lx_evo_and_flux import lx_evo, flux_at_planet, l_xuv_all\n",
    "from platypos.mass_luminosity_relation import mass_lum_relation_mamajek\n",
    "from platypos.lx_evo_and_flux import l_high_energy, calculate_Lx_sat\n",
    "\n",
    "if os.path.exists(\"/media/laura/SSD2lin/Dropbox/PhD_2/Python_Projects/PLATYPOS/multitrack/\"):\n",
    "    sys.path.append(\"/media/laura/SSD2lin/Dropbox/PhD_2/Python_Projects/PLATYPOS/multitrack/\")\n",
    "elif os.path.exists(\"/work2/lketzer/work/gitlab/platypos_group/multitrack/\"):\n",
    "    sys.path.append(\"/work2/lketzer/work/gitlab/platypos_group/multitrack/\")\n",
    "elif os.path.exists(\"/home/laura/Dropbox/PhD_2/Python_Projects/PLATYPOS/multitrack/\"):\n",
    "    sys.path.append(\"/home/laura/Dropbox/PhD_2/Python_Projects/PLATYPOS/multitrack/\")\n",
    "from multitrack import evolve_one_planet_along_one_track\n",
    "#from multitrack import evolve_one_planet\n",
    "from multitrack.create_planet_chunks import create_file_structure_for_saving_results_and_return_planet_folder_pairs\n",
    "from multitrack.create_planet_chunks import make_folder_planet_track_list\n",
    "from multitrack.create_planet_chunks import create_arg_list_one_planet, create_arg_list_one_planet_along_one_track\n",
    "\n",
    "from multitrack.evolve_planet import evolve_1planet_1track\n",
    "from multitrack.create_planet_chunks import create_arg_list_1planet_1track\n",
    "from multitrack.complete_track_dict import complete_track_dict, complete_track_dict_noplobj\n",
    "\n",
    "from multitrack.read_in_PLATYPOS_population_results import read_results_file, read_in_PLATYPOS_results_fullEvo\n",
    "from multitrack.read_in_PLATYPOS_population_results import read_in_PLATYPOS_results_final\n",
    "from multitrack.read_in_PLATYPOS_population_results import read_in_PLATYPOS_results_dataframe\n",
    "from multitrack.read_in_PLATYPOS_population_results import get_complete_results\n",
    "from multitrack.read_in_PLATYPOS_population_results import read_in_host_star_parameters\n",
    "from multitrack.read_in_PLATYPOS_population_results import read_in_PLATYPOS_results_df_new, create_master_table\n",
    "\n",
    "import multitrack.keplers_3rd_law as kepler3\n",
    "import multitrack.get_ExoplanetEU_data as exoEU\n",
    "\n",
    "\n",
    "#!pip install line_profiler\n",
    "%load_ext line_profiler\n",
    "%load_ext autoreload\n",
    "%autoreload 2"
   ]
  },
  {
   "cell_type": "markdown",
   "metadata": {},
   "source": [
    "# Create Planets \n",
    "- specify host star properties\n",
    "- specify planet properties: core mass, orbital mass fraction and orbital distance"
   ]
  },
  {
   "cell_type": "code",
   "execution_count": 2,
   "metadata": {},
   "outputs": [],
   "source": [
    "star = {\n",
    " 'star_id': \"dummy\",\n",
    " 'mass': 0.9853484910214,\n",
    " 'radius': None,\n",
    " 'age': 1.0,\n",
    " 'L_bol': 3.4539847848609653e+33/const.L_sun.cgs.value,\n",
    " 'Lx_age': 2.56047429431498e+30}\n",
    "planet = {\n",
    " 'distance': 0.013243682995988661,\n",
    " 'metallicity': 'solarZ',\n",
    " 'fenv': 16.392784596958197,\n",
    " 'core_mass': 0.9532237058218218}\n",
    "pl1 = Planet_LoFo14(star, planet)\n",
    "\n",
    "star = {\n",
    " 'star_id': 'star_age1.0_mass1.03',\n",
    " 'mass': 1.027672583692369,\n",
    " 'radius': None,\n",
    " 'age': 1.0,\n",
    " 'L_bol': 4.0868258335169855e+33/const.L_sun.cgs.value,\n",
    " 'Lx_age': 3.029605844799301e+30}\n",
    "planet = {\n",
    " 'distance': 0.26568969027997524,\n",
    " 'metallicity': 'solarZ',\n",
    " 'fenv': 2.2181748204555483,\n",
    " 'core_mass': 2.274310743090016}\n",
    "pl2 = Planet_LoFo14(star, planet)\n",
    "\n",
    "star = {\n",
    " 'star_id': 'star_age1.0_mass1.05',\n",
    " 'mass': 1.0528330000727544,\n",
    " 'radius': None,\n",
    " 'age': 1.0,\n",
    " 'L_bol': 4.6964654232268237e+33/const.L_sun.cgs.value,\n",
    " 'Lx_age': 3.481537916153693e+30}\n",
    "planet = {\n",
    " 'distance': 0.08122846066224176,\n",
    " 'metallicity': 'solarZ',\n",
    " 'fenv': 7.4452478880800514,\n",
    " 'core_mass': 3.5298972937511093}\n",
    "pl3 = Planet_LoFo14(star, planet)\n",
    "\n",
    "for pl in [pl1, pl2, pl3]:\n",
    "    pl.Lx_sat_info = \"Tu15\""
   ]
  },
  {
   "cell_type": "code",
   "execution_count": 3,
   "metadata": {},
   "outputs": [
    {
     "data": {
      "text/plain": [
       "{'star_id': 'star_age1.0_mass1.03',\n",
       " 'radius_star': None,\n",
       " 'mass_star': 1.027672583692369,\n",
       " 'age': 1.0,\n",
       " 'Lbol': 4.0868258335169855e+33,\n",
       " 'Lbol_solar': 1.0676138541057956,\n",
       " 'Lx_age': 3.029605844799301e+30,\n",
       " 'Lx_sat_info': 'Tu15',\n",
       " 'Lx_sat_Lbol': None,\n",
       " 'distance': 0.26568969027997524,\n",
       " 'metallicity': 'solarZ',\n",
       " 'flux': 14.993585465287188,\n",
       " 'flux_cgs': 20586192.84383931,\n",
       " 't_eq': 548.8783202065721,\n",
       " 'has_evolved': False,\n",
       " 'planet_id': 'dummy',\n",
       " 'EUV_relation': None,\n",
       " 'planet_type': 'LoFo14',\n",
       " 'planet_info': 'Case 1 - artificial planet (with M_core & f_env)',\n",
       " 'fenv': 2.2181748204555483,\n",
       " 'core_mass': 2.274310743090016,\n",
       " 'core_radius': 1.228039823926851,\n",
       " 'mass': 2.325903345446851,\n",
       " 'R_env': 3.07082251329571,\n",
       " 'radius': 4.298862337222561,\n",
       " 'density': 0.16087941358191246,\n",
       " 'grav_potential': -338130643901.97174,\n",
       " 'lambda_escape': 7.467228074912551,\n",
       " 'radius_RL': 81.8505718243745,\n",
       " 'period': 49.34368951975617}"
      ]
     },
     "execution_count": 3,
     "metadata": {},
     "output_type": "execute_result"
    }
   ],
   "source": [
    "pl2.__dict__"
   ]
  },
  {
   "cell_type": "markdown",
   "metadata": {},
   "source": [
    "# Set starting conditions for the simulation & define some activity tracks"
   ]
  },
  {
   "cell_type": "code",
   "execution_count": 4,
   "metadata": {},
   "outputs": [],
   "source": [
    "# simulation run parameters\n",
    "age_star = pl1.age\n",
    "Lxsat_info, relation_EUV = \"LxTu15\", \"Johnstone\"\n",
    "t_final, initial_step_size, epsilon = 7000., 0.1, 0.1\n",
    "K = \"yes\"\n",
    "beta_settings = {\"beta_calc\": \"Lopez17\", \"RL_cut\": True}\n",
    "mass_loss_calc = \"Elim_and_RRlim\"\n",
    "fenv_sample_cut = True\n",
    "\n",
    "# track parameters which are different between the diff. tracks: t_sat, dt_drop, Lx_drop_factor\n",
    "track1 = {'t_sat': 1.9513432987716333, 'dt_drop': 23.3, 'Lx_drop_factor': 37.657876399021}\n",
    "track2 = {'t_sat': 4.097848550067654, 'dt_drop': 23.3, 'Lx_drop_factor': 32.93517012357806}\n",
    "track3 = {'t_sat': 8.605539963092262, 'dt_drop': 23.3, 'Lx_drop_factor': 25.645501139747335}\n",
    "track4 = {'t_sat': 18.071755740010293, 'dt_drop': 23.3, 'Lx_drop_factor': 16.73703522599636}\n",
    "track5 = {'t_sat': 37.95094287253076, 'dt_drop': 23.3, 'Lx_drop_factor': 8.785921912518194}\n",
    "track6 = {'t_sat': 79.69751725480509, 'dt_drop': 23.3, 'Lx_drop_factor': 3.7416155266187654}\n",
    "track7 = {'t_sat': 167.36591440992555, 'dt_drop': 0.0, 'Lx_drop_factor': 0.0}\n",
    "track8 = {'t_sat': 351.47078944396685, 'dt_drop': 0.0, 'Lx_drop_factor': 0.0}\n",
    "track9 = {'t_sat': 500.0, 'dt_drop': 0.0, 'Lx_drop_factor': 0.0}\n",
    "track10 = {'t_sat': 100.0, 'dt_drop': 0.0, 'Lx_drop_factor': 0.0}\n",
    "different_track_params_list = [track10]#[track1, track2, track3, track4, track5, track6, track7, track8, track9, track10]"
   ]
  },
  {
   "cell_type": "markdown",
   "metadata": {},
   "source": [
    "# Evolve planets along all tracks"
   ]
  },
  {
   "cell_type": "code",
   "execution_count": 5,
   "metadata": {},
   "outputs": [
    {
     "name": "stdout",
     "output_type": "stream",
     "text": [
      "Folder Planet_grid_delete/ exists.\n",
      "\n",
      "Path for saving results:\n",
      " /home/laura/Dropbox/PhD_2/Python_Projects/PLATYPOS/github_multitrack_010422/example/Planet_grid_delete/\n"
     ]
    },
    {
     "ename": "NameError",
     "evalue": "name 'Lx1Gyr' is not defined",
     "output_type": "error",
     "traceback": [
      "\u001b[0;31m---------------------------------------------------------------------------\u001b[0m",
      "\u001b[0;31mNameError\u001b[0m                                 Traceback (most recent call last)",
      "\u001b[0;32m<ipython-input-5-05e10ed95b3e>\u001b[0m in \u001b[0;36m<module>\u001b[0;34m\u001b[0m\n\u001b[1;32m     30\u001b[0m                                 \u001b[0mmass_loss_calc\u001b[0m\u001b[0;34m,\u001b[0m\u001b[0;34m\u001b[0m\u001b[0;34m\u001b[0m\u001b[0m\n\u001b[1;32m     31\u001b[0m                                 \u001b[0mfenv_sample_cut\u001b[0m\u001b[0;34m,\u001b[0m\u001b[0;34m\u001b[0m\u001b[0;34m\u001b[0m\u001b[0m\n\u001b[0;32m---> 32\u001b[0;31m                                 Lx1Gyr)\n\u001b[0m",
      "\u001b[0;31mNameError\u001b[0m: name 'Lx1Gyr' is not defined"
     ]
    }
   ],
   "source": [
    "list_planets = [pl1, pl2, pl3]\n",
    "name = \"Planet_grid_delete/\"\n",
    "#Lx1Gyr = \"Jackson12\"\n",
    "\n",
    "if not os.path.isdir(os.getcwd() + \"/\" + name):\n",
    "    os.makedirs(os.getcwd() + \"/\" + name)\n",
    "else:\n",
    "    os.system(\"rm -r \" + os.getcwd() + \"/\" + name)\n",
    "    os.makedirs(os.getcwd() + \"/\" + name)\n",
    "\n",
    "path_save, folder_planet_list = create_file_structure_for_saving_results_and_return_planet_folder_pairs(\n",
    "                                            curr_path=os.getcwd()+\"/\",\n",
    "                                            folder_name=name,\n",
    "                                            list_planets=list_planets)\n",
    "print(\"\\nPath for saving results:\\n\", path_save)\n",
    "\n",
    "# create list of [folder, planet, track]-triplets\n",
    "folder_planet_track_list =  make_folder_planet_track_list(\n",
    "                                                    folder_planet_list,\n",
    "                                                    different_track_params_list)\n",
    "\n",
    "# for evolve_one_planet_along_one_track\n",
    "arg_tuples = create_arg_list_1planet_1track(\n",
    "                                folder_planet_track_list,\n",
    "                                t_final,\n",
    "                                initial_step_size,\n",
    "                                epsilon, K, beta_settings,\n",
    "                                path_save,\n",
    "                                relation_EUV,\n",
    "                                mass_loss_calc,\n",
    "                                fenv_sample_cut,\n",
    "                                Lx1Gyr)"
   ]
  },
  {
   "cell_type": "code",
   "execution_count": 15,
   "metadata": {},
   "outputs": [
    {
     "data": {
      "text/plain": [
       "(['planet_1',\n",
       "  <platypos.planet_LoFo14.Planet_LoFo14 at 0x7f4ed0fd46d0>,\n",
       "  {'t_sat': 100.0, 'dt_drop': 0.0, 'Lx_drop_factor': 0.0}],\n",
       " 7000.0,\n",
       " 0.1,\n",
       " 0.1,\n",
       " 'yes',\n",
       " {'beta_calc': 'Lopez17', 'RL_cut': True},\n",
       " '/home/laura/Dropbox/PhD_2/Python_Projects/PLATYPOS/github_multitrack_010422/example/Planet_grid_delete/planet_1',\n",
       " 'Johnstone',\n",
       " 'Elim_and_RRlim',\n",
       " True,\n",
       " 'Jackson12',\n",
       " 'Jackson12')"
      ]
     },
     "execution_count": 15,
     "metadata": {},
     "output_type": "execute_result"
    }
   ],
   "source": [
    "arg_tuples[0]"
   ]
  },
  {
   "cell_type": "code",
   "execution_count": 15,
   "metadata": {},
   "outputs": [
    {
     "ename": "TypeError",
     "evalue": "'int' object is not iterable",
     "output_type": "error",
     "traceback": [
      "\u001b[0;31m---------------------------------------------------------------------------\u001b[0m",
      "\u001b[0;31mTypeError\u001b[0m                                 Traceback (most recent call last)",
      "\u001b[0;32m/tmp/ipykernel_19727/2124031533.py\u001b[0m in \u001b[0;36m<module>\u001b[0;34m\u001b[0m\n\u001b[0;32m----> 1\u001b[0;31m \u001b[0mtuple\u001b[0m\u001b[0;34m(\u001b[0m\u001b[0;36m0\u001b[0m\u001b[0;34m)\u001b[0m\u001b[0;34m\u001b[0m\u001b[0;34m\u001b[0m\u001b[0m\n\u001b[0m",
      "\u001b[0;31mTypeError\u001b[0m: 'int' object is not iterable"
     ]
    }
   ],
   "source": [
    "tuple(0)"
   ]
  },
  {
   "cell_type": "code",
   "execution_count": 25,
   "metadata": {},
   "outputs": [
    {
     "name": "stdout",
     "output_type": "stream",
     "text": [
      "There are 8 CPUs on this machine\n"
     ]
    },
    {
     "ename": "UnboundLocalError",
     "evalue": "local variable 'Lbol' referenced before assignment",
     "output_type": "error",
     "traceback": [
      "\u001b[0;31m---------------------------------------------------------------------------\u001b[0m",
      "\u001b[0;31mRemoteTraceback\u001b[0m                           Traceback (most recent call last)",
      "\u001b[0;31mRemoteTraceback\u001b[0m: \n\"\"\"\nTraceback (most recent call last):\n  File \"/home/laura/anaconda3/envs/platypos/lib/python3.9/multiprocessing/pool.py\", line 125, in worker\n    result = (True, func(*args, **kwds))\n  File \"/home/laura/anaconda3/envs/platypos/lib/python3.9/multiprocessing/pool.py\", line 51, in starmapstar\n    return list(itertools.starmap(args[0], args[1]))\n  File \"/home/laura/Dropbox/PhD_2/Python_Projects/PLATYPOS/multitrack/multitrack/evolve_planet.py\", line 427, in evolve_1planet_1track\n    track_dict_complete = complete_track_dict(planet,\n  File \"/home/laura/Dropbox/PhD_2/Python_Projects/PLATYPOS/multitrack/multitrack/complete_track_dict.py\", line 80, in complete_track_dict\n    Lx_sat = l_high_energy(1.0, pl.mass_star, paper=\"Tu15\", ML_rel=ML_rel)\n  File \"/home/laura/Dropbox/PhD_2/Python_Projects/PLATYPOS/platypos/platypos/lx_evo_and_flux.py\", line 322, in l_high_energy\n    return 10**(-3.13) * Lbol * const.L_sun.cgs.value\nUnboundLocalError: local variable 'Lbol' referenced before assignment\n\"\"\"",
      "\nThe above exception was the direct cause of the following exception:\n",
      "\u001b[0;31mUnboundLocalError\u001b[0m                         Traceback (most recent call last)",
      "\u001b[0;32m<ipython-input-25-109e5be69833>\u001b[0m in \u001b[0;36m<module>\u001b[0;34m\u001b[0m\n\u001b[1;32m      8\u001b[0m \u001b[0;34m\u001b[0m\u001b[0m\n\u001b[1;32m      9\u001b[0m     \u001b[0;32mwith\u001b[0m \u001b[0mmultiprocessing\u001b[0m\u001b[0;34m.\u001b[0m\u001b[0mPool\u001b[0m\u001b[0;34m(\u001b[0m\u001b[0mprocesses\u001b[0m\u001b[0;34m=\u001b[0m\u001b[0mcpu_count\u001b[0m\u001b[0;34m-\u001b[0m\u001b[0;36m1\u001b[0m\u001b[0;34m)\u001b[0m \u001b[0;32mas\u001b[0m \u001b[0mpool\u001b[0m\u001b[0;34m:\u001b[0m\u001b[0;34m\u001b[0m\u001b[0;34m\u001b[0m\u001b[0m\n\u001b[0;32m---> 10\u001b[0;31m         \u001b[0mpool\u001b[0m\u001b[0;34m.\u001b[0m\u001b[0mstarmap\u001b[0m\u001b[0;34m(\u001b[0m\u001b[0mevolve_1planet_1track\u001b[0m\u001b[0;34m,\u001b[0m \u001b[0marg_tuples\u001b[0m\u001b[0;34m)\u001b[0m\u001b[0;34m\u001b[0m\u001b[0;34m\u001b[0m\u001b[0m\n\u001b[0m\u001b[1;32m     11\u001b[0m \u001b[0;34m\u001b[0m\u001b[0m\n\u001b[1;32m     12\u001b[0m \u001b[0mprint\u001b[0m\u001b[0;34m(\u001b[0m\u001b[0;34mf'Time: {time.time() - start}'\u001b[0m\u001b[0;34m)\u001b[0m\u001b[0;34m\u001b[0m\u001b[0;34m\u001b[0m\u001b[0m\n",
      "\u001b[0;32m~/anaconda3/envs/platypos/lib/python3.9/multiprocessing/pool.py\u001b[0m in \u001b[0;36mstarmap\u001b[0;34m(self, func, iterable, chunksize)\u001b[0m\n\u001b[1;32m    370\u001b[0m         \u001b[0;31m`\u001b[0m\u001b[0mfunc\u001b[0m\u001b[0;31m`\u001b[0m \u001b[0;32mand\u001b[0m \u001b[0;34m(\u001b[0m\u001b[0ma\u001b[0m\u001b[0;34m,\u001b[0m \u001b[0mb\u001b[0m\u001b[0;34m)\u001b[0m \u001b[0mbecomes\u001b[0m \u001b[0mfunc\u001b[0m\u001b[0;34m(\u001b[0m\u001b[0ma\u001b[0m\u001b[0;34m,\u001b[0m \u001b[0mb\u001b[0m\u001b[0;34m)\u001b[0m\u001b[0;34m.\u001b[0m\u001b[0;34m\u001b[0m\u001b[0;34m\u001b[0m\u001b[0m\n\u001b[1;32m    371\u001b[0m         '''\n\u001b[0;32m--> 372\u001b[0;31m         \u001b[0;32mreturn\u001b[0m \u001b[0mself\u001b[0m\u001b[0;34m.\u001b[0m\u001b[0m_map_async\u001b[0m\u001b[0;34m(\u001b[0m\u001b[0mfunc\u001b[0m\u001b[0;34m,\u001b[0m \u001b[0miterable\u001b[0m\u001b[0;34m,\u001b[0m \u001b[0mstarmapstar\u001b[0m\u001b[0;34m,\u001b[0m \u001b[0mchunksize\u001b[0m\u001b[0;34m)\u001b[0m\u001b[0;34m.\u001b[0m\u001b[0mget\u001b[0m\u001b[0;34m(\u001b[0m\u001b[0;34m)\u001b[0m\u001b[0;34m\u001b[0m\u001b[0;34m\u001b[0m\u001b[0m\n\u001b[0m\u001b[1;32m    373\u001b[0m \u001b[0;34m\u001b[0m\u001b[0m\n\u001b[1;32m    374\u001b[0m     def starmap_async(self, func, iterable, chunksize=None, callback=None,\n",
      "\u001b[0;32m~/anaconda3/envs/platypos/lib/python3.9/multiprocessing/pool.py\u001b[0m in \u001b[0;36mget\u001b[0;34m(self, timeout)\u001b[0m\n\u001b[1;32m    769\u001b[0m             \u001b[0;32mreturn\u001b[0m \u001b[0mself\u001b[0m\u001b[0;34m.\u001b[0m\u001b[0m_value\u001b[0m\u001b[0;34m\u001b[0m\u001b[0;34m\u001b[0m\u001b[0m\n\u001b[1;32m    770\u001b[0m         \u001b[0;32melse\u001b[0m\u001b[0;34m:\u001b[0m\u001b[0;34m\u001b[0m\u001b[0;34m\u001b[0m\u001b[0m\n\u001b[0;32m--> 771\u001b[0;31m             \u001b[0;32mraise\u001b[0m \u001b[0mself\u001b[0m\u001b[0;34m.\u001b[0m\u001b[0m_value\u001b[0m\u001b[0;34m\u001b[0m\u001b[0;34m\u001b[0m\u001b[0m\n\u001b[0m\u001b[1;32m    772\u001b[0m \u001b[0;34m\u001b[0m\u001b[0m\n\u001b[1;32m    773\u001b[0m     \u001b[0;32mdef\u001b[0m \u001b[0m_set\u001b[0m\u001b[0;34m(\u001b[0m\u001b[0mself\u001b[0m\u001b[0;34m,\u001b[0m \u001b[0mi\u001b[0m\u001b[0;34m,\u001b[0m \u001b[0mobj\u001b[0m\u001b[0;34m)\u001b[0m\u001b[0;34m:\u001b[0m\u001b[0;34m\u001b[0m\u001b[0;34m\u001b[0m\u001b[0m\n",
      "\u001b[0;31mUnboundLocalError\u001b[0m: local variable 'Lbol' referenced before assignment"
     ]
    }
   ],
   "source": [
    "#start the multiprocessing\n",
    "start = time.time()\n",
    "\n",
    "if __name__ == '__main__': # Allows for the safe importing of the main module\n",
    "\n",
    "    cpu_count = multiprocessing.cpu_count()\n",
    "    print(\"There are %d CPUs on this machine\" % cpu_count)\n",
    "\n",
    "    with multiprocessing.Pool(processes=cpu_count-1) as pool:\n",
    "        pool.starmap(evolve_1planet_1track, arg_tuples)\n",
    "\n",
    "print(f'Time: {time.time() - start}')\n",
    "print(\"\\n\")"
   ]
  },
  {
   "cell_type": "markdown",
   "metadata": {},
   "source": [
    "# Read in the results"
   ]
  },
  {
   "cell_type": "code",
   "execution_count": 9,
   "metadata": {},
   "outputs": [
    {
     "name": "stdout",
     "output_type": "stream",
     "text": [
      "/home/laura/Dropbox/PhD_2/Python_Projects/PLATYPOS/github_multitrack_010422/example\n"
     ]
    }
   ],
   "source": [
    "!pwd"
   ]
  },
  {
   "cell_type": "code",
   "execution_count": 10,
   "metadata": {},
   "outputs": [
    {
     "name": "stdout",
     "output_type": "stream",
     "text": [
      "/home/laura/Dropbox/PhD_2/Python_Projects/PLATYPOS/github_multitrack_010422/example/Planet_grid_delete/\n",
      "Total # of planet folders =  3\n",
      "Non-empty folders:  3\n",
      "\n",
      "Total number of planets to analyze:  3\n",
      "Non-empty folders:  3\n",
      "3.153602782902609\n",
      "0.20400975009245328\n",
      "2.0190681850221135\n",
      "1.343944476124324\n",
      "3.1103816101941626\n",
      "1.2588527324368541\n",
      "/home/laura/Dropbox/PhD_2/Python_Projects/PLATYPOS/github_multitrack_010422/example/Planet_grid_delete/\n",
      "Total # of planet folders =  3\n",
      "Non-empty folders:  3\n",
      "\n",
      "Total number of planets to analyze:  3\n",
      "CPU times: user 270 ms, sys: 0 ns, total: 270 ms\n",
      "Wall time: 78.1 ms\n"
     ]
    }
   ],
   "source": [
    "%%time\n",
    "path_save = \"/media/laura/SSD2lin/Dropbox/PhD_2/Python_Projects/PLATYPOS/github/github_May21/multitrack/example/\"\n",
    "path_save = \"/home/laura/Dropbox/PhD_2/Python_Projects/PLATYPOS/github_multitrack_010422/example/\"\n",
    "\n",
    "\n",
    "# specify run parameters (necessary to calculate some additional parameters)\n",
    "add_parameters = {\"epsilon\": epsilon,\n",
    "                  \"beta_settings\": beta_settings,\n",
    "                  \"K_on\": K,\n",
    "                  \"mass_loss_calc\": mass_loss_calc,\n",
    "                  \"relation_EUV\": relation_EUV}\n",
    "\n",
    "###\n",
    "f = \"test_run/\"\n",
    "f = \"Planet_grid_delete/\"\n",
    "\n",
    "pl_df, tracks_dict = read_in_PLATYPOS_results_df_new(os.path.join(path_save, f),\n",
    "                                                  len(different_track_params_list),\n",
    "                                                  return_second_to_last=False)\n",
    "pl_more = create_master_table(pl_df, os.path.join(path_save, f),\n",
    "                              len(different_track_params_list), add_parameters)\n",
    "pl_df_dict, pl_init_dict, track_dict = read_in_PLATYPOS_results_fullEvo(os.path.join(path_save, f),\n",
    "                                                                        len(different_track_params_list))"
   ]
  },
  {
   "cell_type": "markdown",
   "metadata": {},
   "source": [
    "# Plot results"
   ]
  },
  {
   "cell_type": "code",
   "execution_count": 12,
   "metadata": {},
   "outputs": [
    {
     "data": {
      "image/png": "[encoded data removed]",
      "text/plain": [
       "<Figure size 1080x432 with 2 Axes>"
      ]
     },
     "metadata": {
      "needs_background": "light"
     },
     "output_type": "display_data"
    }
   ],
   "source": [
    "track = 1\n",
    "fig, axs = plt.subplots(1,2, figsize=(15,6))\n",
    "\n",
    "for pl in list(pl_df_dict.keys()):\n",
    "    df_pl = pl_df_dict[pl]\n",
    "    fenv = ((df_pl[\"M\"+str(track)] - pl_df.loc[pl][\"core_mass\"]) / df_pl[\"M\"+str(track)]) * 100\n",
    "    axs[0].plot(df_pl[\"t\"+str(track)], fenv, ls=\"-\", marker=\"None\", label=pl)\n",
    "    \n",
    "    axs[1].plot(df_pl[\"t\"+str(track)], df_pl[\"R\"+str(track)], ls=\"-\", marker=\"None\", label=pl)\n",
    "    xlim = axs[1].get_xlim()\n",
    "    xmax = df_pl[\"t\"+str(track)].loc[df_pl[\"t\"+str(track)].last_valid_index()]\n",
    "    axs[1].hlines(plmoLoFo14.calculate_core_radius(pl_df.loc[pl][\"core_mass\"]), xlim[0], xmax, ls=\"--\", lw=0.9, color=\"grey\")\n",
    "\n",
    "axs[0].hlines(1e-2, xlim[0], xlim[1], ls=\"--\", lw=0.9, color=\"grey\")\n",
    "axs[0].set_ylim(1e-3, 20)\n",
    "axs[0].set_ylabel(\"fenv [%]\", size=14)\n",
    "\n",
    "axs[1].set_ylim(0.7, 18)\n",
    "axs[1].set_ylabel(\"Radius [R$_\\oplus$]\", size=14)\n",
    "for ax in axs:\n",
    "    #ax.set_xlim(8, 1e4)\n",
    "    ax.set_xscale(\"log\")\n",
    "    ax.set_yscale(\"log\")\n",
    "    ax.set_xlabel(\"Time [Myr]\", size=14)\n",
    "    ax.legend()\n",
    "plt.tight_layout(rect=[0, 0.03, 1, 0.98]); "
   ]
  },
  {
   "cell_type": "code",
   "execution_count": 9,
   "metadata": {},
   "outputs": [
    {
     "data": {
      "image/png": "[encoded data removed]",
      "text/plain": [
       "<Figure size 432x288 with 1 Axes>"
      ]
     },
     "metadata": {
      "needs_background": "light"
     },
     "output_type": "display_data"
    }
   ],
   "source": [
    "fig, ax = plt.subplots()\n",
    "for pl in list(pl_df_dict.keys()):\n",
    "    df_pl = pl_df_dict[pl]\n",
    "    ax.plot(df_pl[\"t\"+str(track)], df_pl[\"Lx\"+str(track)], ls=\"-\", marker=\"None\", label=pl)\n",
    "\n",
    "ax.set_yscale(\"log\"); ax.set_xscale(\"log\")\n",
    "ax.set_ylabel(\"L$_x$ [erg/s]\"); ax.set_xlabel(\"Time [Myr]\")\n",
    "ax.legend()\n",
    "plt.tight_layout();"
   ]
  },
  {
   "cell_type": "code",
   "execution_count": 13,
   "metadata": {},
   "outputs": [
    {
     "data": {
      "image/png": "[encoded data removed]",
      "text/plain": [
       "<Figure size 432x288 with 1 Axes>"
      ]
     },
     "metadata": {
      "needs_background": "light"
     },
     "output_type": "display_data"
    }
   ],
   "source": [
    "fig, ax = plt.subplots()\n",
    "for pl in list(pl_df_dict.keys()):\n",
    "    df_pl = pl_df_dict[pl]\n",
    "    ax.plot(df_pl[\"t\"+str(track)], df_pl[\"Lx\"+str(track)], ls=\"-\", marker=\"None\", label=pl)\n",
    "\n",
    "ax.set_yscale(\"log\"); ax.set_xscale(\"log\")\n",
    "ax.set_ylabel(\"L$_x$ [erg/s]\"); ax.set_xlabel(\"Time [Myr]\")\n",
    "ax.legend()\n",
    "plt.tight_layout();"
   ]
  },
  {
   "cell_type": "code",
   "execution_count": null,
   "metadata": {},
   "outputs": [],
   "source": []
  }
 ],
 "metadata": {
  "kernelspec": {
   "display_name": "Python 3",
   "language": "python",
   "name": "python3"
  },
  "language_info": {
   "codemirror_mode": {
    "name": "ipython",
    "version": 3
   },
   "file_extension": ".py",
   "mimetype": "text/x-python",
   "name": "python",
   "nbconvert_exporter": "python",
   "pygments_lexer": "ipython3",
   "version": "3.9.5"
  },
  "toc": {
   "base_numbering": 1,
   "nav_menu": {},
   "number_sections": true,
   "sideBar": true,
   "skip_h1_title": false,
   "title_cell": "Table of Contents",
   "title_sidebar": "Contents",
   "toc_cell": false,
   "toc_position": {},
   "toc_section_display": true,
   "toc_window_display": false
  },
  "varInspector": {
   "cols": {
    "lenName": 16,
    "lenType": 16,
    "lenVar": 40
   },
   "kernels_config": {
    "python": {
     "delete_cmd_postfix": "",
     "delete_cmd_prefix": "del ",
     "library": "var_list.py",
     "varRefreshCmd": "print(var_dic_list())"
    },
    "r": {
     "delete_cmd_postfix": ") ",
     "delete_cmd_prefix": "rm(",
     "library": "var_list.r",
     "varRefreshCmd": "cat(var_dic_list()) "
    }
   },
   "types_to_exclude": [
    "module",
    "function",
    "builtin_function_or_method",
    "instance",
    "_Feature"
   ],
   "window_display": false
  }
 },
 "nbformat": 4,
 "nbformat_minor": 4
}
